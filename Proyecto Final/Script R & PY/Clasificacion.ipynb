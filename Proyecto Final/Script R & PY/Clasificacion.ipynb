{
 "cells": [
  {
   "cell_type": "code",
   "execution_count": 8,
   "metadata": {},
   "outputs": [],
   "source": [
    "import pyodbc\n",
    "import numpy as np\n",
    "import pandas as pd\n",
    "import matplotlib.pyplot as plt\n",
    "import seaborn as sns\n",
    "import sklearn\n",
    "from sklearn.preprocessing import LabelEncoder\n",
    "import os \n",
    "sns.set_style('darkgrid')"
   ]
  },
  {
   "cell_type": "code",
   "execution_count": 9,
   "metadata": {},
   "outputs": [],
   "source": [
    "#Conexion y seleccion a base de datos.\n",
    "conn = pyodbc.connect('Driver={SQL Server};'\n",
    "'Server=LAPTOP-0I4EFM0E;'\n",
    "'Database=RepuestosWeb;'\n",
    "'Trusted_Connection=yes;', timeout=3000)"
   ]
  },
  {
   "cell_type": "code",
   "execution_count": 27,
   "metadata": {},
   "outputs": [
    {
     "data": {
      "text/html": [
       "<div>\n",
       "<style scoped>\n",
       "    .dataframe tbody tr th:only-of-type {\n",
       "        vertical-align: middle;\n",
       "    }\n",
       "\n",
       "    .dataframe tbody tr th {\n",
       "        vertical-align: top;\n",
       "    }\n",
       "\n",
       "    .dataframe thead th {\n",
       "        text-align: right;\n",
       "    }\n",
       "</style>\n",
       "<table border=\"1\" class=\"dataframe\">\n",
       "  <thead>\n",
       "    <tr style=\"text-align: right;\">\n",
       "      <th></th>\n",
       "      <th>NombreCiudad</th>\n",
       "      <th>Genero</th>\n",
       "      <th>ID_Parte</th>\n",
       "      <th>ID_Categoria</th>\n",
       "      <th>Total_Orden</th>\n",
       "      <th>TotalEncimaPromedio</th>\n",
       "    </tr>\n",
       "  </thead>\n",
       "  <tbody>\n",
       "    <tr>\n",
       "      <th>0</th>\n",
       "      <td>San Diego</td>\n",
       "      <td>M</td>\n",
       "      <td>AC1100173CORE-ORIG.REC</td>\n",
       "      <td>1612</td>\n",
       "      <td>23139.50</td>\n",
       "      <td>1</td>\n",
       "    </tr>\n",
       "    <tr>\n",
       "      <th>1</th>\n",
       "      <td>Tacoma</td>\n",
       "      <td>F</td>\n",
       "      <td>AC1320108-ORIG.REC</td>\n",
       "      <td>2827</td>\n",
       "      <td>1041.55</td>\n",
       "      <td>0</td>\n",
       "    </tr>\n",
       "    <tr>\n",
       "      <th>2</th>\n",
       "      <td>Akron</td>\n",
       "      <td>M</td>\n",
       "      <td>AC1228119-ORIG.REC</td>\n",
       "      <td>3154</td>\n",
       "      <td>6207.45</td>\n",
       "      <td>0</td>\n",
       "    </tr>\n",
       "    <tr>\n",
       "      <th>3</th>\n",
       "      <td>Richmond</td>\n",
       "      <td>M</td>\n",
       "      <td>AC1217107</td>\n",
       "      <td>3225</td>\n",
       "      <td>13022.11</td>\n",
       "      <td>1</td>\n",
       "    </tr>\n",
       "    <tr>\n",
       "      <th>4</th>\n",
       "      <td>Dallas</td>\n",
       "      <td>F</td>\n",
       "      <td>AC2519105-ORIG.REC</td>\n",
       "      <td>4241</td>\n",
       "      <td>2145.25</td>\n",
       "      <td>0</td>\n",
       "    </tr>\n",
       "    <tr>\n",
       "      <th>5</th>\n",
       "      <td>Shreveport</td>\n",
       "      <td>F</td>\n",
       "      <td>AC1100177-ORIG.REC</td>\n",
       "      <td>2512</td>\n",
       "      <td>14485.40</td>\n",
       "      <td>1</td>\n",
       "    </tr>\n",
       "    <tr>\n",
       "      <th>6</th>\n",
       "      <td>Fresno</td>\n",
       "      <td>M</td>\n",
       "      <td>AC1114104C</td>\n",
       "      <td>2560</td>\n",
       "      <td>1950.12</td>\n",
       "      <td>0</td>\n",
       "    </tr>\n",
       "    <tr>\n",
       "      <th>7</th>\n",
       "      <td>Boston</td>\n",
       "      <td>F</td>\n",
       "      <td>AC1249128</td>\n",
       "      <td>3847</td>\n",
       "      <td>5526.56</td>\n",
       "      <td>0</td>\n",
       "    </tr>\n",
       "    <tr>\n",
       "      <th>8</th>\n",
       "      <td>Louisville</td>\n",
       "      <td>F</td>\n",
       "      <td>AC1228103</td>\n",
       "      <td>2598</td>\n",
       "      <td>6327.91</td>\n",
       "      <td>0</td>\n",
       "    </tr>\n",
       "    <tr>\n",
       "      <th>9</th>\n",
       "      <td>St. Louis</td>\n",
       "      <td>M</td>\n",
       "      <td>AC1115103C-ORIG.REC</td>\n",
       "      <td>2746</td>\n",
       "      <td>8611.97</td>\n",
       "      <td>0</td>\n",
       "    </tr>\n",
       "    <tr>\n",
       "      <th>10</th>\n",
       "      <td>St. Petersburg</td>\n",
       "      <td>M</td>\n",
       "      <td>AC1323113</td>\n",
       "      <td>3836</td>\n",
       "      <td>23412.15</td>\n",
       "      <td>1</td>\n",
       "    </tr>\n",
       "    <tr>\n",
       "      <th>11</th>\n",
       "      <td>Lubbock</td>\n",
       "      <td>F</td>\n",
       "      <td>AC1288133</td>\n",
       "      <td>2768</td>\n",
       "      <td>752.63</td>\n",
       "      <td>0</td>\n",
       "    </tr>\n",
       "    <tr>\n",
       "      <th>12</th>\n",
       "      <td>Rochester</td>\n",
       "      <td>M</td>\n",
       "      <td>AC1210116C</td>\n",
       "      <td>3305</td>\n",
       "      <td>19283.75</td>\n",
       "      <td>1</td>\n",
       "    </tr>\n",
       "    <tr>\n",
       "      <th>13</th>\n",
       "      <td>Omaha</td>\n",
       "      <td>F</td>\n",
       "      <td>AC1100176C</td>\n",
       "      <td>2211</td>\n",
       "      <td>4686.36</td>\n",
       "      <td>0</td>\n",
       "    </tr>\n",
       "    <tr>\n",
       "      <th>14</th>\n",
       "      <td>Washington</td>\n",
       "      <td>F</td>\n",
       "      <td>AC1115103</td>\n",
       "      <td>1483</td>\n",
       "      <td>17545.08</td>\n",
       "      <td>1</td>\n",
       "    </tr>\n",
       "  </tbody>\n",
       "</table>\n",
       "</div>"
      ],
      "text/plain": [
       "      NombreCiudad Genero                ID_Parte  ID_Categoria  Total_Orden  \\\n",
       "0        San Diego      M  AC1100173CORE-ORIG.REC          1612     23139.50   \n",
       "1           Tacoma      F      AC1320108-ORIG.REC          2827      1041.55   \n",
       "2            Akron      M      AC1228119-ORIG.REC          3154      6207.45   \n",
       "3         Richmond      M               AC1217107          3225     13022.11   \n",
       "4           Dallas      F      AC2519105-ORIG.REC          4241      2145.25   \n",
       "5       Shreveport      F      AC1100177-ORIG.REC          2512     14485.40   \n",
       "6           Fresno      M              AC1114104C          2560      1950.12   \n",
       "7           Boston      F               AC1249128          3847      5526.56   \n",
       "8       Louisville      F               AC1228103          2598      6327.91   \n",
       "9        St. Louis      M     AC1115103C-ORIG.REC          2746      8611.97   \n",
       "10  St. Petersburg      M               AC1323113          3836     23412.15   \n",
       "11         Lubbock      F               AC1288133          2768       752.63   \n",
       "12       Rochester      M              AC1210116C          3305     19283.75   \n",
       "13           Omaha      F              AC1100176C          2211      4686.36   \n",
       "14      Washington      F               AC1115103          1483     17545.08   \n",
       "\n",
       "    TotalEncimaPromedio  \n",
       "0                     1  \n",
       "1                     0  \n",
       "2                     0  \n",
       "3                     1  \n",
       "4                     0  \n",
       "5                     1  \n",
       "6                     0  \n",
       "7                     0  \n",
       "8                     0  \n",
       "9                     0  \n",
       "10                    1  \n",
       "11                    0  \n",
       "12                    1  \n",
       "13                    0  \n",
       "14                    1  "
      ]
     },
     "execution_count": 27,
     "metadata": {},
     "output_type": "execute_result"
    }
   ],
   "source": [
    "CityDataFrame = pd.read_sql(\n",
    "    \"SELECT ci.Nombre AS NombreCiudad, \"\n",
    "    + \"c.Genero, \"\n",
    "    + \"p.ID_Parte, \"\n",
    "    + \"p.ID_Categoria, \"\n",
    "    + \"o.Total_Orden, \"\n",
    "    + \"TotalEncimaPromedio = CASE WHEN (o.Total_Orden/ \"\n",
    "    + \"(SELECT AVG(o2.Total_Orden) \"\n",
    "    + \"FROM dbo.Orden o2)) > 1 \"\n",
    "    + \"THEN 1 ELSE 0 end \"\n",
    "    + \"FROM dbo.Clientes c \"\n",
    "    + \"INNER JOIN dbo.Orden o \"\n",
    "    + \"ON o.ID_Cliente = c.ID_Cliente \"\n",
    "    + \"INNER JOIN dbo.Detalle_orden do \"\n",
    "    + \"ON do.ID_Orden = o.ID_Orden \"\n",
    "    + \"INNER JOIN dbo.Partes p \"\n",
    "    + \"ON p.ID_Parte = do.ID_Parte \"\n",
    "    + \"INNER JOIN dbo.Ciudad ci \"\n",
    "    + \"ON ci.ID_Ciudad = o.ID_Ciudad \"\n",
    "    + \"INNER JOIN dbo.Categoria cat \"\n",
    "    + \"ON cat.ID_Categoria = p.ID_Categoria \", conn )\n",
    "CityDataFrame.head(15)"
   ]
  },
  {
   "cell_type": "code",
   "execution_count": 28,
   "metadata": {},
   "outputs": [
    {
     "data": {
      "text/plain": [
       "array([['San Diego', 'M'],\n",
       "       ['Tacoma', 'F'],\n",
       "       ['Akron', 'M'],\n",
       "       ...,\n",
       "       ['Tacoma', 'M'],\n",
       "       ['Bakersfield', 'F'],\n",
       "       ['Greensboro', 'F']], dtype=object)"
      ]
     },
     "execution_count": 28,
     "metadata": {},
     "output_type": "execute_result"
    }
   ],
   "source": [
    "#Almacenar las variables X y Y\n",
    "X = CityDataFrame.iloc[:,0:2].values\n",
    "Y = CityDataFrame.iloc[:, -1].values\n",
    "X"
   ]
  },
  {
   "cell_type": "code",
   "execution_count": 29,
   "metadata": {},
   "outputs": [
    {
     "data": {
      "text/plain": [
       "array([[76, 1],\n",
       "       [87, 0],\n",
       "       [0, 1],\n",
       "       ...,\n",
       "       [87, 1],\n",
       "       [8, 0],\n",
       "       [34, 0]], dtype=object)"
      ]
     },
     "execution_count": 29,
     "metadata": {},
     "output_type": "execute_result"
    }
   ],
   "source": [
    "#Codificar atributos no numericos segun el numero de escala\n",
    "le = LabelEncoder()\n",
    "X[:,0] = le.fit_transform(X[:,0])\n",
    "X[:,1] = le.fit_transform(X[:,1])\n",
    "X"
   ]
  },
  {
   "cell_type": "code",
   "execution_count": 30,
   "metadata": {},
   "outputs": [],
   "source": [
    "#Split de 80 - 20\n",
    "from sklearn.model_selection import train_test_split\n",
    "X_train, X_test, y_train, y_test = train_test_split(X, Y, test_size=0.2, random_state=0)"
   ]
  },
  {
   "cell_type": "code",
   "execution_count": 31,
   "metadata": {},
   "outputs": [],
   "source": [
    "#Split Arbol 80 - 20\n",
    "from sklearn.model_selection import train_test_split\n",
    "X_tree_train, X_tree_test, y_tree_train, y_tree_test = train_test_split(X, Y, test_size=0.2, random_state=0)"
   ]
  },
  {
   "cell_type": "code",
   "execution_count": 32,
   "metadata": {},
   "outputs": [
    {
     "data": {
      "text/plain": [
       "GaussianNB(priors=None, var_smoothing=1e-09)"
      ]
     },
     "execution_count": 32,
     "metadata": {},
     "output_type": "execute_result"
    }
   ],
   "source": [
    "from sklearn.naive_bayes import GaussianNB\n",
    "classifier = GaussianNB()\n",
    "classifier.fit(X_train, y_train)"
   ]
  },
  {
   "cell_type": "code",
   "execution_count": 33,
   "metadata": {},
   "outputs": [
    {
     "data": {
      "text/plain": [
       "DecisionTreeClassifier(class_weight=None, criterion='gini', max_depth=None,\n",
       "            max_features=None, max_leaf_nodes=None,\n",
       "            min_impurity_decrease=0.0, min_impurity_split=None,\n",
       "            min_samples_leaf=1, min_samples_split=2,\n",
       "            min_weight_fraction_leaf=0.0, presort=False, random_state=None,\n",
       "            splitter='best')"
      ]
     },
     "execution_count": 33,
     "metadata": {},
     "output_type": "execute_result"
    }
   ],
   "source": [
    "#Crear modelo de arbol\n",
    "from sklearn.tree import DecisionTreeClassifier\n",
    "classifier_tree = DecisionTreeClassifier()\n",
    "classifier_tree.fit(X_tree_train, y_tree_train)"
   ]
  },
  {
   "cell_type": "code",
   "execution_count": 34,
   "metadata": {},
   "outputs": [
    {
     "data": {
      "text/plain": [
       "array([1, 1, 0, ..., 0, 1, 0], dtype=int64)"
      ]
     },
     "execution_count": 34,
     "metadata": {},
     "output_type": "execute_result"
    }
   ],
   "source": [
    "#Variable dependiente usando variables independientes del 20%\n",
    "y_pred = classifier.predict(X_test)\n",
    "y_pred "
   ]
  },
  {
   "cell_type": "code",
   "execution_count": 35,
   "metadata": {},
   "outputs": [
    {
     "data": {
      "text/plain": [
       "array([0, 1, 1, ..., 0, 1, 0], dtype=int64)"
      ]
     },
     "execution_count": 35,
     "metadata": {},
     "output_type": "execute_result"
    }
   ],
   "source": [
    "#Variable Arbol\n",
    "y_tree_pred = classifier_tree.predict(X_tree_test)\n",
    "y_tree_pred"
   ]
  },
  {
   "cell_type": "code",
   "execution_count": 36,
   "metadata": {},
   "outputs": [
    {
     "data": {
      "text/plain": [
       "array([0, 0, 0, ..., 1, 0, 1], dtype=int64)"
      ]
     },
     "execution_count": 36,
     "metadata": {},
     "output_type": "execute_result"
    }
   ],
   "source": [
    "#Valores reales de Y con el 20%\n",
    "y_test"
   ]
  },
  {
   "cell_type": "code",
   "execution_count": 37,
   "metadata": {},
   "outputs": [],
   "source": [
    "#Matriz de confusion y precision\n",
    "from sklearn.metrics import confusion_matrix, accuracy_score\n",
    "cm = confusion_matrix(y_test, y_pred)\n",
    "ac = accuracy_score(y_test, y_pred)"
   ]
  },
  {
   "cell_type": "code",
   "execution_count": 38,
   "metadata": {},
   "outputs": [],
   "source": [
    "#Matriz y precision de Arbol\n",
    "from sklearn.metrics import confusion_matrix, accuracy_score\n",
    "cm_tree = confusion_matrix(y_tree_test, y_tree_pred)\n",
    "ac_tree = accuracy_score(y_tree_test, y_tree_pred)"
   ]
  },
  {
   "cell_type": "code",
   "execution_count": 39,
   "metadata": {},
   "outputs": [
    {
     "data": {
      "text/plain": [
       "array([[208, 993],\n",
       "       [223, 958]], dtype=int64)"
      ]
     },
     "execution_count": 39,
     "metadata": {},
     "output_type": "execute_result"
    }
   ],
   "source": [
    "#Confusion Matrix\n",
    "cm"
   ]
  },
  {
   "cell_type": "code",
   "execution_count": 40,
   "metadata": {},
   "outputs": [
    {
     "data": {
      "text/plain": [
       "array([[591, 610],\n",
       "       [568, 613]], dtype=int64)"
      ]
     },
     "execution_count": 40,
     "metadata": {},
     "output_type": "execute_result"
    }
   ],
   "source": [
    "#Confusion Matrix Arbol\n",
    "cm_tree"
   ]
  },
  {
   "cell_type": "code",
   "execution_count": 41,
   "metadata": {},
   "outputs": [
    {
     "data": {
      "text/plain": [
       "0.489504617968094"
      ]
     },
     "execution_count": 41,
     "metadata": {},
     "output_type": "execute_result"
    }
   ],
   "source": [
    "#Presicion del modelo\n",
    "ac"
   ]
  },
  {
   "cell_type": "code",
   "execution_count": 42,
   "metadata": {},
   "outputs": [
    {
     "data": {
      "text/plain": [
       "0.5054575986565911"
      ]
     },
     "execution_count": 42,
     "metadata": {},
     "output_type": "execute_result"
    }
   ],
   "source": [
    "#Presicion del modelo Arbol\n",
    "ac_tree"
   ]
  },
  {
   "cell_type": "code",
   "execution_count": 43,
   "metadata": {},
   "outputs": [
    {
     "data": {
      "text/plain": [
       "[Text(0, 0.5, 'True'), Text(0, 1.5, 'False')]"
      ]
     },
     "execution_count": 43,
     "metadata": {},
     "output_type": "execute_result"
    },
    {
     "data": {
      "image/png": "[encoded data removed]",
      "text/plain": [
       "<Figure size 432x288 with 2 Axes>"
      ]
     },
     "metadata": {},
     "output_type": "display_data"
    }
   ],
   "source": [
    "#Graficar matriz de confusion\n",
    "ax = plt.subplot()\n",
    "sns.heatmap(cm, annot=True, ax=ax, fmt='d')\n",
    "ax.set_xlabel('Predictions');ax.set_ylabel('Real')\n",
    "ax.set_title('Confusion Matrix')\n",
    "ax.xaxis.set_ticklabels(['True', 'False']); ax.yaxis.set_ticklabels(['True', 'False'])"
   ]
  }
 ],
 "metadata": {
  "interpreter": {
   "hash": "233eb7f5d30af2130b7e876cc9f75acbbb38ef93fe66c8b51454663c4f0ec179"
  },
  "kernelspec": {
   "display_name": "Python 3.10.0 64-bit",
   "language": "python",
   "name": "python3"
  },
  "language_info": {
   "codemirror_mode": {
    "name": "ipython",
    "version": 3
   },
   "file_extension": ".py",
   "mimetype": "text/x-python",
   "name": "python",
   "nbconvert_exporter": "python",
   "pygments_lexer": "ipython3",
   "version": "3.7.1"
  },
  "orig_nbformat": 4
 },
 "nbformat": 4,
 "nbformat_minor": 2
}
